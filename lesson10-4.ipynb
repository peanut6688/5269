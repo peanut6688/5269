{
 "cells": [
  {
   "cell_type": "code",
   "execution_count": null,
   "metadata": {},
   "outputs": [],
   "source": [
    "file = open('names.txt',mode='r',encoding='utf-8')\n",
    "print(file.read())\n",
    "file.close()"
   ]
  },
  {
   "cell_type": "code",
   "execution_count": null,
   "metadata": {},
   "outputs": [],
   "source": [
    "file = open('names.txt',mode='r',encoding='utf-8')\n",
    "print(file.read())\n",
    "file.close()"
   ]
  },
  {
   "cell_type": "code",
   "execution_count": null,
   "metadata": {},
   "outputs": [],
   "source": [
    "file = open('names.txt',mode='r',encoding='utf-8')\n",
    "print(file.readline())\n",
    "print(file.readline())\n",
    "print(file.readline())\n",
    "file.close()"
   ]
  },
  {
   "cell_type": "code",
   "execution_count": null,
   "metadata": {},
   "outputs": [],
   "source": [
    "file = open('names.txt',mode='r',encoding='utf-8')\n",
    "print(file.readline())\n",
    "print(file.readline())\n",
    "print(file.readline())\n",
    "file.close()"
   ]
  },
  {
   "cell_type": "code",
   "execution_count": null,
   "metadata": {},
   "outputs": [],
   "source": [
    "file = open('names.txt',mode='r',encoding='utf-8')\n",
    "names:list[str] = []\n",
    "for line in file:\n",
    "    #names.append(line)\n",
    "    line = line.rstrip('\\n')\n",
    "    names.append(line)\n",
    "file.close()\n",
    "\n",
    "len(names)"
   ]
  },
  {
   "cell_type": "code",
   "execution_count": null,
   "metadata": {},
   "outputs": [],
   "source": [
    "#亂數抓一個姓名\n",
    "import random\n",
    "first_name = \"徐\"\n",
    "for _ in range(5):\n",
    "    random_name = random.choice(names)\n",
    "    print(first_name + random_name[1:])"
   ]
  },
  {
   "cell_type": "code",
   "execution_count": null,
   "metadata": {},
   "outputs": [],
   "source": [
    "import random\n",
    "\n",
    "def name_generator(firstName:str,numbers:int)->None:\n",
    "    file = open('names.txt',mode='r',encoding='utf-8')\n",
    "    names:list[str] = []\n",
    "    for line in file:\n",
    "        #names.append(line)\n",
    "        line = line.rstrip('\\n')\n",
    "        names.append(line)\n",
    "    file.close()\n",
    "    for _ in range(numbers):\n",
    "        random_name = random.choice(names)\n",
    "        print(firstName + random_name[1:])\n",
    "\n",
    "    "
   ]
  }
 ],
 "metadata": {
  "kernelspec": {
   "display_name": "Python 3",
   "language": "python",
   "name": "python3"
  },
  "language_info": {
   "codemirror_mode": {
    "name": "ipython",
    "version": 3
   },
   "file_extension": ".py",
   "mimetype": "text/x-python",
   "name": "python",
   "nbconvert_exporter": "python",
   "pygments_lexer": "ipython3",
   "version": "3.10.12"
  },
  "orig_nbformat": 4
 },
 "nbformat": 4,
 "nbformat_minor": 2
}
