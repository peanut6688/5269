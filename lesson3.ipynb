{
 "cells": [
  {
   "cell_type": "code",
   "execution_count": 3,
   "metadata": {},
   "outputs": [
    {
     "name": "stdout",
     "output_type": "stream",
     "text": [
      "對邊:5,斜邊:65,角度:4.41\n"
     ]
    }
   ],
   "source": [
    "#高中數學\n",
    "import math\n",
    "side1 = eval(input(\"輸入直角三角形的對邊:\"))\n",
    "side2 = eval(input(\"輸入直角三角形的斜邊:\"))\n",
    "degree = round(math.degrees(math.asin(side1 / side2)),ndigits=2)\n",
    "print(f\"對邊:{side1},斜邊:{side2},角度:{degree}\")"
   ]
  },
  {
   "cell_type": "code",
   "execution_count": 8,
   "metadata": {},
   "outputs": [
    {
     "data": {
      "text/plain": [
       "True"
      ]
     },
     "execution_count": 8,
     "metadata": {},
     "output_type": "execute_result"
    }
   ],
   "source": [
    "#比較運算式\n",
    "5==5\n"
   ]
  },
  {
   "cell_type": "code",
   "execution_count": 9,
   "metadata": {},
   "outputs": [
    {
     "name": "stdout",
     "output_type": "stream",
     "text": [
      "學生總分為262\n"
     ]
    }
   ],
   "source": [
    "#學生總分為300\n",
    "#有些學生可以加分5%\n",
    "score = int(input(\"請輸入學生分數(最高300分):\"))\n",
    "is_add = input(\"學生是否符合加分條件?(y,n)\")\n",
    "\n",
    "if(is_add == 'y'):\n",
    "    score *= 1.05\n",
    "\n",
    "print(f\"學生總分為{round(score)}\")"
   ]
  },
  {
   "cell_type": "code",
   "execution_count": 17,
   "metadata": {},
   "outputs": [
    {
     "name": "stdout",
     "output_type": "stream",
     "text": [
      "學生總分為262\n"
     ]
    }
   ],
   "source": [
    "#學生總分為300\n",
    "#有些學生可以加分5%\n",
    "##如果加分超過300,就以300分為準\n",
    "\n",
    "score = int(input(\"請輸入學生分數(最高300分):\"))\n",
    "is_add = input(\"學生是否符合加分條件?(y,n)\")\n",
    "\n",
    "if(is_add == 'y'):\n",
    "    score *= 1.05\n",
    "    if score > 300:\n",
    "        score = 300\n",
    "\n",
    "print(f\"學生總分為{round(score)}\")"
   ]
  },
  {
   "cell_type": "code",
   "execution_count": 22,
   "metadata": {},
   "outputs": [
    {
     "name": "stdout",
     "output_type": "stream",
     "text": [
      "學生總分為58\n"
     ]
    }
   ],
   "source": [
    "#學生總分為300\n",
    "#檢查輸入超過300,印出錯誤訊息\n",
    "#有些學生可以加分5%\n",
    "##如果加分超過300,就以300分為準\n",
    "\n",
    "score = int(input(\"請輸入學生分數(最高300分):\"))\n",
    "if score <= 300:\n",
    "    is_add = input(\"學生是否符合加分條件?(y,n)\")\n",
    "\n",
    "    if(is_add == 'y'):\n",
    "        score *= 1.05\n",
    "        if score > 300:\n",
    "            score = 300\n",
    "\n",
    "    print(f\"學生總分為{round(score)}\")\n",
    "else:\n",
    "    print(\"輸入超過300分,請重新執行\")\n"
   ]
  },
  {
   "cell_type": "code",
   "execution_count": 33,
   "metadata": {},
   "outputs": [
    {
     "name": "stdout",
     "output_type": "stream",
     "text": [
      "輸入格式有錯誤\n"
     ]
    }
   ],
   "source": [
    "try:\n",
    "    score = int(input(\"請輸入學生分數(最高300分):\"))\n",
    "    if score <= 300:\n",
    "        is_add = input(\"學生是否符合加分條件?(y,n)\")\n",
    "\n",
    "        if(is_add == 'y'):\n",
    "            score *= 1.05\n",
    "            if score > 300:\n",
    "                score = 300\n",
    "\n",
    "        print(f\"學生總分為{round(score)}\")\n",
    "    else:\n",
    "        print(\"輸入超過300分,請重新執行\")\n",
    "except:\n",
    "    print(\"輸入格式有錯誤\")"
   ]
  },
  {
   "cell_type": "code",
   "execution_count": null,
   "metadata": {},
   "outputs": [],
   "source": [
    "try:\n",
    "    score = int(input(\"請輸入國文分數:\"))\n",
    "    if score < 60:\n",
    "        print(\"不及格\")\n",
    "    else:\n",
    "        print(\"及格\")\n",
    "except:\n",
    "    print(\"輸入格式有錯誤\")"
   ]
  },
  {
   "cell_type": "code",
   "execution_count": 45,
   "metadata": {},
   "outputs": [],
   "source": [
    "try:\n",
    "    score = int(input(\"請輸入國文分數:\"))\n",
    "    if score < 60:\n",
    "        print(\"不及格\")\n",
    "    else:\n",
    "        if score < 80:\n",
    "            print(\"普通\")\n",
    "        else:\n",
    "            print(\"優\")\n",
    "except:\n",
    "    print(\"輸入格式有錯誤\")"
   ]
  }
 ],
 "metadata": {
  "kernelspec": {
   "display_name": "Python 3",
   "language": "python",
   "name": "python3"
  },
  "language_info": {
   "codemirror_mode": {
    "name": "ipython",
    "version": 3
   },
   "file_extension": ".py",
   "mimetype": "text/x-python",
   "name": "python",
   "nbconvert_exporter": "python",
   "pygments_lexer": "ipython3",
   "version": "3.10.12"
  },
  "orig_nbformat": 4
 },
 "nbformat": 4,
 "nbformat_minor": 2
}
